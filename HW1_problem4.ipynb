{
  "nbformat": 4,
  "nbformat_minor": 0,
  "metadata": {
    "colab": {
      "name": "HW1_problem4.ipynb",
      "version": "0.3.2",
      "provenance": [],
      "collapsed_sections": [],
      "include_colab_link": true
    },
    "kernelspec": {
      "name": "python3",
      "display_name": "Python 3"
    }
  },
  "cells": [
    {
      "cell_type": "markdown",
      "metadata": {
        "id": "view-in-github",
        "colab_type": "text"
      },
      "source": [
        "<a href=\"https://colab.research.google.com/github/ZiyangZ/Machine-learning/blob/master/HW1_problem4.ipynb\" target=\"_parent\"><img src=\"https://colab.research.google.com/assets/colab-badge.svg\" alt=\"Open In Colab\"/></a>"
      ]
    },
    {
      "metadata": {
        "id": "xbVrJIQkA-70",
        "colab_type": "code",
        "colab": {
          "base_uri": "https://localhost:8080/",
          "height": 734
        },
        "outputId": "9b693cb5-2c39-4c20-e213-0d99c0107ec5"
      },
      "cell_type": "code",
      "source": [
        "from keras.datasets import mnist\n",
        "import numpy as np\n",
        "\n",
        "(train_images_original, train_labels_original), (test_images_original, test_labels_original) = mnist.load_data()\n",
        "\n",
        "train_images = train_images_original.reshape((60000, 28 * 28))\n",
        "train_images = train_images.astype('float32') / 255\n",
        "\n",
        "test_images = test_images_original.reshape((10000, 28 * 28))\n",
        "test_images = test_images.astype('float32') / 255\n",
        "\n",
        "from keras.utils import to_categorical\n",
        "\n",
        "train_labels = to_categorical(train_labels_original)\n",
        "test_labels = to_categorical(test_labels_original)\n",
        "\n",
        "from keras import models\n",
        "from keras import layers\n",
        "\n",
        "network = models.Sequential()\n",
        "network.add(layers.Dense(10, activation='softmax', input_shape=(28 * 28,))) \n",
        "\n",
        "network.compile(optimizer='rmsprop',\n",
        "                loss='categorical_crossentropy',\n",
        "                metrics=['accuracy'])\n",
        "\n",
        "epochs = 20\n",
        "history = network.fit(train_images, \n",
        "                      train_labels, \n",
        "                      epochs=epochs, \n",
        "                      batch_size=50, \n",
        "                      validation_data=(test_images, test_labels))"
      ],
      "execution_count": 9,
      "outputs": [
        {
          "output_type": "stream",
          "text": [
            "Train on 60000 samples, validate on 10000 samples\n",
            "Epoch 1/20\n",
            "60000/60000 [==============================] - 2s 34us/step - loss: 0.4761 - acc: 0.8751 - val_loss: 0.3070 - val_acc: 0.9128\n",
            "Epoch 2/20\n",
            "60000/60000 [==============================] - 2s 32us/step - loss: 0.3063 - acc: 0.9143 - val_loss: 0.2867 - val_acc: 0.9199\n",
            "Epoch 3/20\n",
            "60000/60000 [==============================] - 2s 31us/step - loss: 0.2888 - acc: 0.9197 - val_loss: 0.2794 - val_acc: 0.9228\n",
            "Epoch 4/20\n",
            "60000/60000 [==============================] - 2s 32us/step - loss: 0.2804 - acc: 0.9220 - val_loss: 0.2802 - val_acc: 0.9244\n",
            "Epoch 5/20\n",
            "60000/60000 [==============================] - 2s 34us/step - loss: 0.2762 - acc: 0.9244 - val_loss: 0.2746 - val_acc: 0.9256\n",
            "Epoch 6/20\n",
            "60000/60000 [==============================] - 2s 35us/step - loss: 0.2732 - acc: 0.9257 - val_loss: 0.2777 - val_acc: 0.9266\n",
            "Epoch 7/20\n",
            "60000/60000 [==============================] - 2s 35us/step - loss: 0.2710 - acc: 0.9271 - val_loss: 0.2753 - val_acc: 0.9258\n",
            "Epoch 8/20\n",
            "60000/60000 [==============================] - 2s 34us/step - loss: 0.2698 - acc: 0.9275 - val_loss: 0.2757 - val_acc: 0.9275\n",
            "Epoch 9/20\n",
            "60000/60000 [==============================] - 2s 34us/step - loss: 0.2688 - acc: 0.9284 - val_loss: 0.2793 - val_acc: 0.9265\n",
            "Epoch 10/20\n",
            "60000/60000 [==============================] - 2s 32us/step - loss: 0.2676 - acc: 0.9293 - val_loss: 0.2825 - val_acc: 0.9255\n",
            "Epoch 11/20\n",
            "60000/60000 [==============================] - 2s 32us/step - loss: 0.2673 - acc: 0.9300 - val_loss: 0.2812 - val_acc: 0.9256\n",
            "Epoch 12/20\n",
            "60000/60000 [==============================] - 2s 32us/step - loss: 0.2664 - acc: 0.9303 - val_loss: 0.2814 - val_acc: 0.9261\n",
            "Epoch 13/20\n",
            "60000/60000 [==============================] - 2s 31us/step - loss: 0.2665 - acc: 0.9302 - val_loss: 0.2890 - val_acc: 0.9250\n",
            "Epoch 14/20\n",
            "60000/60000 [==============================] - 2s 32us/step - loss: 0.2660 - acc: 0.9311 - val_loss: 0.2846 - val_acc: 0.9273\n",
            "Epoch 15/20\n",
            "60000/60000 [==============================] - 2s 32us/step - loss: 0.2655 - acc: 0.9308 - val_loss: 0.2876 - val_acc: 0.9258\n",
            "Epoch 16/20\n",
            "60000/60000 [==============================] - 2s 31us/step - loss: 0.2652 - acc: 0.9316 - val_loss: 0.2878 - val_acc: 0.9269\n",
            "Epoch 17/20\n",
            "60000/60000 [==============================] - 2s 32us/step - loss: 0.2655 - acc: 0.9315 - val_loss: 0.2878 - val_acc: 0.9267\n",
            "Epoch 18/20\n",
            "60000/60000 [==============================] - 2s 32us/step - loss: 0.2651 - acc: 0.9316 - val_loss: 0.2894 - val_acc: 0.9265\n",
            "Epoch 19/20\n",
            "60000/60000 [==============================] - 2s 32us/step - loss: 0.2652 - acc: 0.9319 - val_loss: 0.2906 - val_acc: 0.9275\n",
            "Epoch 20/20\n",
            "60000/60000 [==============================] - 2s 32us/step - loss: 0.2653 - acc: 0.9322 - val_loss: 0.2929 - val_acc: 0.9273\n"
          ],
          "name": "stdout"
        }
      ]
    }
  ]
}