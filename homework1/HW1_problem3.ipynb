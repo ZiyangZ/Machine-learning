{
  "nbformat": 4,
  "nbformat_minor": 0,
  "metadata": {
    "colab": {
      "name": "HW1_problem3.ipynb",
      "version": "0.3.2",
      "provenance": [],
      "collapsed_sections": [],
      "include_colab_link": true
    },
    "kernelspec": {
      "name": "python3",
      "display_name": "Python 3"
    }
  },
  "cells": [
    {
      "cell_type": "markdown",
      "metadata": {
        "id": "view-in-github",
        "colab_type": "text"
      },
      "source": [
        "<a href=\"https://colab.research.google.com/github/ZiyangZ/Machine-learning/blob/master/HW1_problem3.ipynb\" target=\"_parent\"><img src=\"https://colab.research.google.com/assets/colab-badge.svg\" alt=\"Open In Colab\"/></a>"
      ]
    },
    {
      "metadata": {
        "id": "SSLR8OaGnadf",
        "colab_type": "text"
      },
      "cell_type": "markdown",
      "source": [
        "## **Load Dada**"
      ]
    },
    {
      "metadata": {
        "id": "xbVrJIQkA-70",
        "colab_type": "code",
        "colab": {}
      },
      "cell_type": "code",
      "source": [
        "from keras.datasets import mnist\n",
        "import numpy as np\n",
        "\n",
        "(train_images_original, train_labels_original), (test_images_original, test_labels_original) = mnist.load_data()\n",
        "\n",
        "train_images = train_images_original.reshape((60000, 28 * 28))\n",
        "x = train_images.astype('float32') / 255\n",
        "\n",
        "test_images = test_images_original.reshape((10000, 28 * 28))\n",
        "x_test = test_images.astype('float32') / 255\n",
        "\n",
        "from keras.utils import to_categorical\n",
        "\n",
        "y = to_categorical(train_labels_original)\n",
        "test_labels = to_categorical(test_labels_original)\n",
        "\n",
        "m = 60000"
      ],
      "execution_count": 0,
      "outputs": []
    },
    {
      "metadata": {
        "id": "kiVdggHPeK-x",
        "colab_type": "text"
      },
      "cell_type": "markdown",
      "source": [
        "## Train and test the data"
      ]
    },
    {
      "metadata": {
        "id": "wgMYk9tofX9y",
        "colab_type": "code",
        "colab": {}
      },
      "cell_type": "code",
      "source": [
        "lr = 0.01\n",
        "epochs = 100\n",
        "batch_size = 50\n",
        "w = np.zeros(shape=(y.shape[1], x.shape[1]),dtype=np.float32)\n",
        "b = 0\n",
        "\n",
        "for epoch in range(epochs):\n",
        "  shuffled_indices = np.random.permutation(m)\n",
        "  y_shuffled = y[shuffled_indices]\n",
        "  x_shuffled = x[shuffled_indices]\n",
        "  for i in range(0, m, batch_size):\n",
        "    yi = y_shuffled[i:i+batch_size]\n",
        "    xi = x_shuffled[i:i+batch_size]\n",
        "    z = np.dot(xi, w.T) + b\n",
        "    a = np.exp(z).reshape((batch_size,z.shape[1]))/np.sum(np.exp(z), axis = 1).reshape((batch_size,1))\n",
        "    dw = (1/batch_size) * np.dot((a-yi).T, xi)\n",
        "    db = (1/batch_size) * np.sum(a-yi)\n",
        "    w = w - lr*dw\n",
        "    b = b - lr*db\n",
        "  \n",
        "z_final = np.dot(x_test, w.T) + b\n",
        "output = np.exp(z_final).reshape((10000,10))/np.sum(np.exp(z_final), axis = 1).reshape((10000,1))\n",
        "result = np.argmax(output, axis = 1)\n",
        "    \n"
      ],
      "execution_count": 0,
      "outputs": []
    },
    {
      "metadata": {
        "id": "7fYpuH3jfxYr",
        "colab_type": "text"
      },
      "cell_type": "markdown",
      "source": [
        "## Prediction accuracy"
      ]
    },
    {
      "metadata": {
        "id": "PwFTK09PfwrU",
        "colab_type": "code",
        "outputId": "c5016bbf-fc02-4b77-9704-eb5be12233b4",
        "colab": {
          "base_uri": "https://localhost:8080/",
          "height": 34
        }
      },
      "cell_type": "code",
      "source": [
        "#calculate the prediction accuracy\n",
        "predicted_labels = result.astype('uint8')\n",
        "wrong_indices = [i for i in range(10000) if predicted_labels[i] != test_labels_original[i]]\n",
        "prediction_accuracy = 1.0 - len(wrong_indices) / 10000.0\n",
        "print(prediction_accuracy)"
      ],
      "execution_count": 0,
      "outputs": [
        {
          "output_type": "stream",
          "text": [
            "0.923\n"
          ],
          "name": "stdout"
        }
      ]
    }
  ]
}
