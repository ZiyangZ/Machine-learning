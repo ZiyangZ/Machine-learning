{
  "nbformat": 4,
  "nbformat_minor": 0,
  "metadata": {
    "colab": {
      "name": "HW1_problem5.ipynb",
      "version": "0.3.2",
      "provenance": [],
      "collapsed_sections": [],
      "include_colab_link": true
    },
    "kernelspec": {
      "name": "python3",
      "display_name": "Python 3"
    }
  },
  "cells": [
    {
      "cell_type": "markdown",
      "metadata": {
        "id": "view-in-github",
        "colab_type": "text"
      },
      "source": [
        "<a href=\"https://colab.research.google.com/github/ZiyangZ/Machine-learning/blob/master/HW1_problem5.ipynb\" target=\"_parent\"><img src=\"https://colab.research.google.com/assets/colab-badge.svg\" alt=\"Open In Colab\"/></a>"
      ]
    },
    {
      "metadata": {
        "id": "xbVrJIQkA-70",
        "colab_type": "code",
        "colab": {}
      },
      "cell_type": "code",
      "source": [
        "from keras.datasets import mnist\n",
        "from scipy import ndimage\n",
        "from keras import models\n",
        "from keras import layers\n",
        "from keras.utils import to_categorical\n",
        "import numpy as np\n",
        "\n",
        "#load data\n",
        "(train_images_original, train_labels_original), (test_images_original, test_labels_original) = mnist.load_data()\n",
        "\n",
        "train_images = train_images_original.reshape((60000, 28 * 28))\n",
        "train_images = train_images.astype('float32') / 255\n",
        "\n",
        "test_images = test_images_original.reshape((10000, 28 * 28))\n",
        "test_images = test_images.astype('float32') / 255\n",
        "\n",
        "train_labels = to_categorical(train_labels_original)\n",
        "test_labels = to_categorical(test_labels_original)\n",
        "\n",
        "#change each image into black/white\n",
        "tr = train_images_original.astype('float32') / 255\n",
        "tr[tr<0.5]=0\n",
        "tr[tr>=0.5]=1\n",
        "bw_images_train = 1-tr\n",
        "\n",
        "te = test_images_original.astype('float32') / 255\n",
        "te[te<0.5]=0\n",
        "te[te>=0.5]=1\n",
        "bw_images_test = 1-te\n",
        "\n",
        "#calculate normalized white regions using connected components\n",
        "white_region_number_train = np.zeros((60000,1))\n",
        "for i in range(60000):\n",
        "  w1 = bw_images_train[i]\n",
        "  white_region_train, white_region_train = ndimage.label(w1)\n",
        "  white_region_number_train[i]=white_region_train/3 \n",
        "\n",
        "white_region_number_test = np.zeros((10000,1))\n",
        "for i in range(10000):\n",
        "  w2 = bw_images_test[i]\n",
        "  white_region_test, white_region_test = ndimage.label(w2)\n",
        "  white_region_number_test[i]=white_region_test/3\n",
        "  \n",
        "#add the new feature to original features\n",
        "train_images_new = np.concatenate((train_images, white_region_number_train), axis = 1)\n",
        "test_images_new = np.concatenate((test_images, white_region_number_test), axis = 1)\n",
        "\n",
        "#build neural network\n",
        "network = models.Sequential()\n",
        "network.add(layers.Dense(10, activation='softmax', input_shape=(28 * 28 + 1,))) \n",
        "\n",
        "network.compile(optimizer='rmsprop',\n",
        "                loss='categorical_crossentropy',\n",
        "                metrics=['accuracy'])\n",
        "\n",
        "epochs = 20\n",
        "history = network.fit(train_images_new, \n",
        "                      train_labels, \n",
        "                      epochs=epochs, \n",
        "                      batch_size=50, \n",
        "                      validation_data=(test_images_new, test_labels))"
      ],
      "execution_count": 0,
      "outputs": []
    }
  ]
}