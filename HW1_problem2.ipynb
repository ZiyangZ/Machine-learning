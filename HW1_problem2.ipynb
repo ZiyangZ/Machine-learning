{
  "nbformat": 4,
  "nbformat_minor": 0,
  "metadata": {
    "colab": {
      "name": "HW1_problem2.ipynb",
      "version": "0.3.2",
      "provenance": [],
      "collapsed_sections": [],
      "include_colab_link": true
    },
    "kernelspec": {
      "name": "python3",
      "display_name": "Python 3"
    }
  },
  "cells": [
    {
      "cell_type": "markdown",
      "metadata": {
        "id": "view-in-github",
        "colab_type": "text"
      },
      "source": [
        "<a href=\"https://colab.research.google.com/github/ZiyangZ/Machine-learning/blob/master/HW1_problem2.ipynb\" target=\"_parent\"><img src=\"https://colab.research.google.com/assets/colab-badge.svg\" alt=\"Open In Colab\"/></a>"
      ]
    },
    {
      "metadata": {
        "id": "SSLR8OaGnadf",
        "colab_type": "text"
      },
      "cell_type": "markdown",
      "source": [
        "## **Load Dada**"
      ]
    },
    {
      "metadata": {
        "id": "xbVrJIQkA-70",
        "colab_type": "code",
        "colab": {
          "base_uri": "https://localhost:8080/",
          "height": 68
        },
        "outputId": "15767c7f-5462-4758-e33e-c2d7944d5604"
      },
      "cell_type": "code",
      "source": [
        "from keras.datasets import mnist\n",
        "import numpy as np\n",
        "\n",
        "(train_images_original, train_labels_original), (test_images_original, test_labels_original) = mnist.load_data()\n",
        "\n",
        "train_images = train_images_original.reshape((60000, 28 * 28))\n",
        "x = train_images.astype('float32') / 255\n",
        "\n",
        "test_images = test_images_original.reshape((10000, 28 * 28))\n",
        "x_test = test_images.astype('float32') / 255\n",
        "\n",
        "m = 60000\n",
        "\n",
        "def sigmoid(z):\n",
        "  s = 1 / (1 + np.exp(-z))\n",
        "  return s"
      ],
      "execution_count": 1,
      "outputs": [
        {
          "output_type": "stream",
          "text": [
            "Using TensorFlow backend.\n"
          ],
          "name": "stderr"
        },
        {
          "output_type": "stream",
          "text": [
            "Downloading data from https://s3.amazonaws.com/img-datasets/mnist.npz\n",
            "11493376/11490434 [==============================] - 1s 0us/step\n"
          ],
          "name": "stdout"
        }
      ]
    },
    {
      "metadata": {
        "id": "kiVdggHPeK-x",
        "colab_type": "text"
      },
      "cell_type": "markdown",
      "source": [
        "## One classifer with mini-batch gradient decent"
      ]
    },
    {
      "metadata": {
        "id": "wgMYk9tofX9y",
        "colab_type": "code",
        "colab": {}
      },
      "cell_type": "code",
      "source": [
        "def train(n):\n",
        "  y = np.zeros((m,1),dtype=np.float32)\n",
        "  y[train_labels_original == n] = np.float32(1.0) #Generate a binary output for each n \n",
        "  \n",
        "  lr = 0.1\n",
        "  epochs = 20\n",
        "  batch_size = 10\n",
        "  w = np.zeros(shape=(y.shape[1], x.shape[1]),dtype=np.float32)\n",
        "  b = 0\n",
        "\n",
        "  for epoch in range(epochs):\n",
        "    shuffled_indices = np.random.permutation(m)\n",
        "    y_shuffled = y[shuffled_indices]\n",
        "    x_shuffled = x[shuffled_indices]\n",
        "    for i in range(0, m-batch_size+1, batch_size):\n",
        "      yi = y_shuffled[i:i+batch_size]\n",
        "      xi = x_shuffled[i:i+batch_size]\n",
        "      z = np.dot(xi, w.T) + b\n",
        "      a = sigmoid(z)\n",
        "      dw = (1/batch_size) * np.dot((a-yi).T, xi)\n",
        "      db = (1/batch_size) * np.sum(a-yi)\n",
        "      w = w - lr*dw\n",
        "      b = b - lr*db\n",
        "  \n",
        "  z_final = np.dot(x_test, w.T) + b\n",
        "  output = sigmoid(z_final)\n",
        "  return output\n",
        "    \n"
      ],
      "execution_count": 0,
      "outputs": []
    },
    {
      "metadata": {
        "id": "7fYpuH3jfxYr",
        "colab_type": "text"
      },
      "cell_type": "markdown",
      "source": [
        "## Test using 10 classifier"
      ]
    },
    {
      "metadata": {
        "id": "PwFTK09PfwrU",
        "colab_type": "code",
        "colab": {
          "base_uri": "https://localhost:8080/",
          "height": 34
        },
        "outputId": "869569ab-2382-4de6-f570-c62a58d315fd"
      },
      "cell_type": "code",
      "source": [
        "p = 10\n",
        "\n",
        "#initialize the prediction array\n",
        "prediction = train(0)\n",
        "\n",
        "#calculate and concatenate results for n = 1 to 9 to the array\n",
        "for l in range(p-1):\n",
        "  prediction = np.concatenate((prediction,train(l+1)),axis=1)\n",
        "\n",
        "#use argmax to decide the final prediction\n",
        "result = np.argmax(prediction, axis = 1)\n",
        "\n",
        "#calculate the prediction accuracy\n",
        "predicted_labels = result.astype('uint8')\n",
        "wrong_indices = [i for i in range(10000) if predicted_labels[i] != test_labels_original[i]]\n",
        "prediction_accuracy = 1.0 - len(wrong_indices) / 10000.0\n",
        "print(prediction_accuracy)"
      ],
      "execution_count": 4,
      "outputs": [
        {
          "output_type": "stream",
          "text": [
            "0.9181\n"
          ],
          "name": "stdout"
        }
      ]
    }
  ]
}