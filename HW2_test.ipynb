{
  "nbformat": 4,
  "nbformat_minor": 0,
  "metadata": {
    "colab": {
      "name": "HW2 test.ipynb",
      "version": "0.3.2",
      "provenance": [],
      "collapsed_sections": [],
      "include_colab_link": true
    },
    "kernelspec": {
      "name": "python3",
      "display_name": "Python 3"
    },
    "accelerator": "GPU"
  },
  "cells": [
    {
      "cell_type": "markdown",
      "metadata": {
        "id": "view-in-github",
        "colab_type": "text"
      },
      "source": [
        "<a href=\"https://colab.research.google.com/github/ZiyangZ/Machine-learning/blob/master/HW2_test.ipynb\" target=\"_parent\"><img src=\"https://colab.research.google.com/assets/colab-badge.svg\" alt=\"Open In Colab\"/></a>"
      ]
    },
    {
      "metadata": {
        "id": "HVfU2SqZVu9v",
        "colab_type": "text"
      },
      "cell_type": "markdown",
      "source": [
        "#Load data"
      ]
    },
    {
      "metadata": {
        "id": "cEfVah-7Q22b",
        "colab_type": "code",
        "outputId": "f4049b1c-6807-48d5-b9f7-f41753f91ece",
        "colab": {
          "base_uri": "https://localhost:8080/",
          "height": 51
        }
      },
      "cell_type": "code",
      "source": [
        "from keras.datasets import cifar10\n",
        "\n",
        "(train_images_original, train_labels_original), (test_images_original, test_labels_original) = cifar10.load_data()\n",
        "\n",
        "train_images_all = train_images_original.astype('float32') / 255\n",
        "test_images = test_images_original.astype('float32') / 255\n",
        "\n",
        "from keras.utils import to_categorical\n",
        "\n",
        "train_labels_all = to_categorical(train_labels_original)\n",
        "test_labels = to_categorical(test_labels_original)\n",
        "\n",
        "train_images = train_images_all[:40000,:]\n",
        "validation_images = train_images_all[40000:,:]\n",
        "train_labels = train_labels_all[:40000,:]\n",
        "validation_labels = train_labels_all[40000:,:]"
      ],
      "execution_count": 0,
      "outputs": [
        {
          "output_type": "stream",
          "text": [
            "Downloading data from https://www.cs.toronto.edu/~kriz/cifar-10-python.tar.gz\n",
            "170500096/170498071 [==============================] - 11s 0us/step\n"
          ],
          "name": "stdout"
        }
      ]
    },
    {
      "metadata": {
        "id": "OIilzBDzWnOS",
        "colab_type": "code",
        "outputId": "0c54eef3-538c-4678-bbe2-d6cc274390b7",
        "colab": {
          "base_uri": "https://localhost:8080/",
          "height": 34
        }
      },
      "cell_type": "code",
      "source": [
        "print(train_images.shape, train_labels.shape, validation_images.shape, validation_labels.shape, test_images.shape, test_labels.shape)"
      ],
      "execution_count": 0,
      "outputs": [
        {
          "output_type": "stream",
          "text": [
            "(40000, 32, 32, 3) (40000, 10) (10000, 32, 32, 3) (10000, 10) (10000, 32, 32, 3) (10000, 10)\n"
          ],
          "name": "stdout"
        }
      ]
    },
    {
      "metadata": {
        "id": "GzwO2uI_SmEL",
        "colab_type": "text"
      },
      "cell_type": "markdown",
      "source": [
        "#Architecture 1\n"
      ]
    },
    {
      "metadata": {
        "id": "-dRN7ELXTBGR",
        "colab_type": "code",
        "colab": {}
      },
      "cell_type": "code",
      "source": [
        "from keras import layers\n",
        "from keras import models\n",
        "from keras import optimizers\n",
        "\n",
        "batch_size = 32\n",
        "epochs = 100\n",
        "\n",
        "model = models.Sequential()\n",
        "\n",
        "model.add(layers.Conv2D(16, (3, 3), activation='relu', input_shape=(32, 32, 3)))\n",
        "model.add(layers.MaxPooling2D(2, 2))\n",
        "\n",
        "model.add(layers.Conv2D(32, (3, 3), activation='relu'))\n",
        "model.add(layers.MaxPooling2D(2, 2))\n",
        "\n",
        "model.add(layers.Conv2D(64, (3, 3), activation='relu'))\n",
        "model.add(layers.MaxPooling2D(2, 2))\n",
        "\n",
        "model.add(layers.Flatten())\n",
        "model.add(layers.Dense(512, activation='relu'))\n",
        "model.add(layers.Dense(10, activation='softmax'))\n",
        "\n",
        "model.compile(\n",
        "    loss='categorical_crossentropy', \n",
        "    optimizer=optimizers.RMSprop(lr=1e-4),\n",
        "    metrics=['acc'])\n",
        "\n",
        "model.fit(train_images, train_labels,\n",
        "              batch_size=batch_size,\n",
        "              epochs=epochs,\n",
        "              validation_data=(validation_images, validation_labels))"
      ],
      "execution_count": 0,
      "outputs": []
    },
    {
      "metadata": {
        "id": "jlwLWLpXUwb3",
        "colab_type": "text"
      },
      "cell_type": "markdown",
      "source": [
        "#Architecture 2"
      ]
    },
    {
      "metadata": {
        "id": "uPbsOUgyVBje",
        "colab_type": "text"
      },
      "cell_type": "markdown",
      "source": [
        "Simple architecture without any modification."
      ]
    },
    {
      "metadata": {
        "id": "ry7hWikdUsLT",
        "colab_type": "code",
        "outputId": "a44a85ac-0f86-4b12-ec5b-0925f8e42c21",
        "colab": {
          "base_uri": "https://localhost:8080/",
          "height": 1751
        }
      },
      "cell_type": "code",
      "source": [
        "from keras import layers\n",
        "from keras import models\n",
        "from keras import optimizers\n",
        "\n",
        "batch_size = 32\n",
        "epochs = 50\n",
        "\n",
        "model = models.Sequential()\n",
        "\n",
        "model.add(layers.Conv2D(32, (3, 3), activation='relu', input_shape=(32, 32, 3)))\n",
        "model.add(layers.Conv2D(32, (3, 3), activation='relu'))\n",
        "model.add(layers.MaxPooling2D(2, 2))\n",
        "\n",
        "model.add(layers.Conv2D(64, (3, 3), activation='relu'))\n",
        "model.add(layers.Conv2D(64, (3, 3), activation='relu'))\n",
        "model.add(layers.MaxPooling2D(2, 2))\n",
        "\n",
        "model.add(layers.Flatten())\n",
        "model.add(layers.Dense(512, activation='relu'))\n",
        "model.add(layers.Dense(10, activation='softmax'))\n",
        "\n",
        "model.compile(\n",
        "    loss='categorical_crossentropy', \n",
        "    optimizer=optimizers.RMSprop(lr=1e-4),\n",
        "    metrics=['acc'])\n",
        "\n",
        "model.fit(train_images, train_labels,\n",
        "              batch_size=batch_size,\n",
        "              epochs=epochs,\n",
        "              validation_data=(validation_images, validation_labels))\n",
        "              \n"
      ],
      "execution_count": 0,
      "outputs": [
        {
          "output_type": "stream",
          "text": [
            "Train on 40000 samples, validate on 10000 samples\n",
            "Epoch 1/50\n",
            "40000/40000 [==============================] - 15s 384us/step - loss: 1.7522 - acc: 0.3705 - val_loss: 1.5775 - val_acc: 0.4273\n",
            "Epoch 2/50\n",
            "40000/40000 [==============================] - 14s 361us/step - loss: 1.4579 - acc: 0.4773 - val_loss: 1.4944 - val_acc: 0.4640\n",
            "Epoch 3/50\n",
            "40000/40000 [==============================] - 14s 359us/step - loss: 1.3288 - acc: 0.5268 - val_loss: 1.2940 - val_acc: 0.5360\n",
            "Epoch 4/50\n",
            "40000/40000 [==============================] - 14s 360us/step - loss: 1.2349 - acc: 0.5620 - val_loss: 1.2167 - val_acc: 0.5708\n",
            "Epoch 5/50\n",
            "40000/40000 [==============================] - 14s 359us/step - loss: 1.1507 - acc: 0.5938 - val_loss: 1.1488 - val_acc: 0.5967\n",
            "Epoch 6/50\n",
            "40000/40000 [==============================] - 14s 357us/step - loss: 1.0812 - acc: 0.6213 - val_loss: 1.0823 - val_acc: 0.6250\n",
            "Epoch 7/50\n",
            "40000/40000 [==============================] - 14s 356us/step - loss: 1.0163 - acc: 0.6434 - val_loss: 1.0492 - val_acc: 0.6334\n",
            "Epoch 8/50\n",
            "40000/40000 [==============================] - 14s 356us/step - loss: 0.9596 - acc: 0.6653 - val_loss: 1.0288 - val_acc: 0.6406\n",
            "Epoch 9/50\n",
            "40000/40000 [==============================] - 14s 359us/step - loss: 0.9073 - acc: 0.6867 - val_loss: 1.0509 - val_acc: 0.6462\n",
            "Epoch 10/50\n",
            "40000/40000 [==============================] - 14s 359us/step - loss: 0.8629 - acc: 0.7027 - val_loss: 0.9538 - val_acc: 0.6700\n",
            "Epoch 11/50\n",
            "40000/40000 [==============================] - 14s 359us/step - loss: 0.8163 - acc: 0.7175 - val_loss: 0.9067 - val_acc: 0.6900\n",
            "Epoch 12/50\n",
            "40000/40000 [==============================] - 14s 359us/step - loss: 0.7746 - acc: 0.7330 - val_loss: 0.9317 - val_acc: 0.6774\n",
            "Epoch 13/50\n",
            "40000/40000 [==============================] - 14s 358us/step - loss: 0.7350 - acc: 0.7462 - val_loss: 0.8770 - val_acc: 0.7021\n",
            "Epoch 14/50\n",
            "40000/40000 [==============================] - 14s 358us/step - loss: 0.6942 - acc: 0.7627 - val_loss: 0.9165 - val_acc: 0.6900\n",
            "Epoch 15/50\n",
            "40000/40000 [==============================] - 14s 358us/step - loss: 0.6573 - acc: 0.7752 - val_loss: 0.9239 - val_acc: 0.6941\n",
            "Epoch 16/50\n",
            "40000/40000 [==============================] - 14s 358us/step - loss: 0.6182 - acc: 0.7903 - val_loss: 0.8810 - val_acc: 0.7091\n",
            "Epoch 17/50\n",
            "40000/40000 [==============================] - 14s 359us/step - loss: 0.5820 - acc: 0.8016 - val_loss: 0.8774 - val_acc: 0.7140\n",
            "Epoch 18/50\n",
            "40000/40000 [==============================] - 14s 360us/step - loss: 0.5462 - acc: 0.8151 - val_loss: 0.8899 - val_acc: 0.7104\n",
            "Epoch 19/50\n",
            "40000/40000 [==============================] - 14s 360us/step - loss: 0.5110 - acc: 0.8267 - val_loss: 0.9012 - val_acc: 0.7095\n",
            "Epoch 20/50\n",
            "40000/40000 [==============================] - 14s 359us/step - loss: 0.4748 - acc: 0.8395 - val_loss: 0.9048 - val_acc: 0.7098\n",
            "Epoch 21/50\n",
            "40000/40000 [==============================] - 14s 359us/step - loss: 0.4406 - acc: 0.8498 - val_loss: 0.8742 - val_acc: 0.7228\n",
            "Epoch 22/50\n",
            "40000/40000 [==============================] - 14s 359us/step - loss: 0.4102 - acc: 0.8623 - val_loss: 0.9017 - val_acc: 0.7210\n",
            "Epoch 23/50\n",
            "40000/40000 [==============================] - 14s 358us/step - loss: 0.3752 - acc: 0.8722 - val_loss: 0.9984 - val_acc: 0.6976\n",
            "Epoch 24/50\n",
            "40000/40000 [==============================] - 14s 358us/step - loss: 0.3424 - acc: 0.8861 - val_loss: 0.9744 - val_acc: 0.7172\n",
            "Epoch 25/50\n",
            "40000/40000 [==============================] - 14s 358us/step - loss: 0.3119 - acc: 0.8959 - val_loss: 1.0334 - val_acc: 0.7105\n",
            "Epoch 26/50\n",
            "40000/40000 [==============================] - 14s 358us/step - loss: 0.2816 - acc: 0.9054 - val_loss: 1.0238 - val_acc: 0.7231\n",
            "Epoch 27/50\n",
            "40000/40000 [==============================] - 14s 358us/step - loss: 0.2556 - acc: 0.9150 - val_loss: 1.0726 - val_acc: 0.7180\n",
            "Epoch 28/50\n",
            "40000/40000 [==============================] - 14s 359us/step - loss: 0.2280 - acc: 0.9256 - val_loss: 1.1403 - val_acc: 0.7123\n",
            "Epoch 29/50\n",
            "40000/40000 [==============================] - 14s 359us/step - loss: 0.2009 - acc: 0.9335 - val_loss: 1.1192 - val_acc: 0.7162\n",
            "Epoch 30/50\n",
            "40000/40000 [==============================] - 14s 359us/step - loss: 0.1755 - acc: 0.9419 - val_loss: 1.2061 - val_acc: 0.7148\n",
            "Epoch 31/50\n",
            "40000/40000 [==============================] - 14s 359us/step - loss: 0.1558 - acc: 0.9501 - val_loss: 1.2587 - val_acc: 0.7101\n",
            "Epoch 32/50\n",
            "40000/40000 [==============================] - 14s 360us/step - loss: 0.1369 - acc: 0.9561 - val_loss: 1.3840 - val_acc: 0.7021\n",
            "Epoch 33/50\n",
            "40000/40000 [==============================] - 14s 359us/step - loss: 0.1215 - acc: 0.9602 - val_loss: 1.3448 - val_acc: 0.7188\n",
            "Epoch 34/50\n",
            "40000/40000 [==============================] - 14s 358us/step - loss: 0.1048 - acc: 0.9673 - val_loss: 1.4519 - val_acc: 0.7074\n",
            "Epoch 35/50\n",
            "40000/40000 [==============================] - 14s 360us/step - loss: 0.0903 - acc: 0.9716 - val_loss: 1.4879 - val_acc: 0.7169\n",
            "Epoch 36/50\n",
            "40000/40000 [==============================] - 14s 358us/step - loss: 0.0789 - acc: 0.9754 - val_loss: 1.5443 - val_acc: 0.7106\n",
            "Epoch 37/50\n",
            "40000/40000 [==============================] - 14s 359us/step - loss: 0.0680 - acc: 0.9796 - val_loss: 1.6414 - val_acc: 0.7088\n",
            "Epoch 38/50\n",
            "40000/40000 [==============================] - 14s 358us/step - loss: 0.0618 - acc: 0.9807 - val_loss: 1.7221 - val_acc: 0.7065\n",
            "Epoch 39/50\n",
            "40000/40000 [==============================] - 14s 359us/step - loss: 0.0540 - acc: 0.9829 - val_loss: 1.6916 - val_acc: 0.7099\n",
            "Epoch 40/50\n",
            "40000/40000 [==============================] - 14s 359us/step - loss: 0.0489 - acc: 0.9846 - val_loss: 1.8159 - val_acc: 0.7085\n",
            "Epoch 41/50\n",
            "40000/40000 [==============================] - 14s 359us/step - loss: 0.0438 - acc: 0.9868 - val_loss: 1.7964 - val_acc: 0.7100\n",
            "Epoch 42/50\n",
            "40000/40000 [==============================] - 14s 359us/step - loss: 0.0414 - acc: 0.9870 - val_loss: 1.8384 - val_acc: 0.7138\n",
            "Epoch 43/50\n",
            "40000/40000 [==============================] - 14s 360us/step - loss: 0.0379 - acc: 0.9883 - val_loss: 2.0120 - val_acc: 0.7018\n",
            "Epoch 44/50\n",
            "40000/40000 [==============================] - 14s 359us/step - loss: 0.0339 - acc: 0.9891 - val_loss: 1.9302 - val_acc: 0.7134\n",
            "Epoch 45/50\n",
            "40000/40000 [==============================] - 14s 359us/step - loss: 0.0334 - acc: 0.9897 - val_loss: 1.9353 - val_acc: 0.7107\n",
            "Epoch 46/50\n",
            "40000/40000 [==============================] - 14s 358us/step - loss: 0.0285 - acc: 0.9909 - val_loss: 2.0018 - val_acc: 0.7174\n",
            "Epoch 47/50\n",
            "40000/40000 [==============================] - 14s 358us/step - loss: 0.0278 - acc: 0.9912 - val_loss: 2.1210 - val_acc: 0.7032\n",
            "Epoch 48/50\n",
            "40000/40000 [==============================] - 14s 358us/step - loss: 0.0273 - acc: 0.9907 - val_loss: 2.0975 - val_acc: 0.7136\n",
            "Epoch 49/50\n",
            "40000/40000 [==============================] - 14s 358us/step - loss: 0.0243 - acc: 0.9926 - val_loss: 2.0924 - val_acc: 0.7105\n",
            "Epoch 50/50\n",
            "40000/40000 [==============================] - 14s 358us/step - loss: 0.0258 - acc: 0.9915 - val_loss: 2.1386 - val_acc: 0.7122\n"
          ],
          "name": "stdout"
        },
        {
          "output_type": "execute_result",
          "data": {
            "text/plain": [
              "<keras.callbacks.History at 0x7f4de04b9eb8>"
            ]
          },
          "metadata": {
            "tags": []
          },
          "execution_count": 12
        }
      ]
    },
    {
      "metadata": {
        "id": "uGyHMdjGYkJP",
        "colab_type": "code",
        "colab": {}
      },
      "cell_type": "code",
      "source": [
        ""
      ],
      "execution_count": 0,
      "outputs": []
    },
    {
      "metadata": {
        "id": "wlGSH0sJ0GFu",
        "colab_type": "code",
        "colab": {}
      },
      "cell_type": "code",
      "source": [
        ""
      ],
      "execution_count": 0,
      "outputs": []
    },
    {
      "metadata": {
        "id": "CI1xVxyRDKI4",
        "colab_type": "text"
      },
      "cell_type": "markdown",
      "source": [
        "#Architecture 2"
      ]
    },
    {
      "metadata": {
        "id": "RkR83nIYDQOR",
        "colab_type": "code",
        "outputId": "759f1e41-be81-4436-db19-f8867e8bb117",
        "colab": {
          "base_uri": "https://localhost:8080/",
          "height": 3451
        }
      },
      "cell_type": "code",
      "source": [
        "from keras import layers\n",
        "from keras import models\n",
        "from keras import optimizers\n",
        "\n",
        "batch_size = 32\n",
        "epochs = 100\n",
        "\n",
        "model = models.Sequential()\n",
        "\n",
        "model.add(layers.Conv2D(16, (3, 3), activation='relu', input_shape=(32, 32, 3)))\n",
        "model.add(layers.MaxPooling2D(2, 2))\n",
        "\n",
        "model.add(layers.Conv2D(32, (3, 3), activation='relu'))\n",
        "model.add(layers.MaxPooling2D(2, 2))\n",
        "\n",
        "model.add(layers.Conv2D(64, (3, 3), activation='relu'))\n",
        "model.add(layers.MaxPooling2D(2, 2))\n",
        "\n",
        "model.add(layers.Flatten())\n",
        "model.add(layers.Dense(512, activation='relu'))\n",
        "model.add(layers.Dense(10, activation='softmax'))\n",
        "\n",
        "model.compile(\n",
        "    loss='categorical_crossentropy', \n",
        "    optimizer=optimizers.RMSprop(lr=1e-4),\n",
        "    metrics=['acc'])\n",
        "\n",
        "model.fit(train_images, train_labels,\n",
        "              batch_size=batch_size,\n",
        "              epochs=epochs,\n",
        "              validation_data=(validation_images, validation_labels))"
      ],
      "execution_count": 0,
      "outputs": [
        {
          "output_type": "stream",
          "text": [
            "Train on 40000 samples, validate on 10000 samples\n",
            "Epoch 1/100\n",
            "40000/40000 [==============================] - 12s 298us/step - loss: 1.9809 - acc: 0.2794 - val_loss: 1.8140 - val_acc: 0.3509\n",
            "Epoch 2/100\n",
            "40000/40000 [==============================] - 12s 303us/step - loss: 1.7211 - acc: 0.3791 - val_loss: 1.6465 - val_acc: 0.4058\n",
            "Epoch 3/100\n",
            "40000/40000 [==============================] - 12s 301us/step - loss: 1.6029 - acc: 0.4231 - val_loss: 1.5777 - val_acc: 0.4353\n",
            "Epoch 4/100\n",
            "40000/40000 [==============================] - 12s 307us/step - loss: 1.5226 - acc: 0.4542 - val_loss: 1.4828 - val_acc: 0.4644\n",
            "Epoch 5/100\n",
            "40000/40000 [==============================] - 12s 295us/step - loss: 1.4595 - acc: 0.4787 - val_loss: 1.4344 - val_acc: 0.4916\n",
            "Epoch 6/100\n",
            "40000/40000 [==============================] - 11s 277us/step - loss: 1.4066 - acc: 0.4990 - val_loss: 1.4098 - val_acc: 0.5057\n",
            "Epoch 7/100\n",
            "40000/40000 [==============================] - 11s 276us/step - loss: 1.3628 - acc: 0.5167 - val_loss: 1.3845 - val_acc: 0.5098\n",
            "Epoch 8/100\n",
            "40000/40000 [==============================] - 11s 269us/step - loss: 1.3225 - acc: 0.5308 - val_loss: 1.3277 - val_acc: 0.5327\n",
            "Epoch 9/100\n",
            "40000/40000 [==============================] - 11s 266us/step - loss: 1.2883 - acc: 0.5448 - val_loss: 1.3476 - val_acc: 0.5204\n",
            "Epoch 10/100\n",
            "40000/40000 [==============================] - 11s 264us/step - loss: 1.2569 - acc: 0.5588 - val_loss: 1.2780 - val_acc: 0.5506\n",
            "Epoch 11/100\n",
            "40000/40000 [==============================] - 11s 264us/step - loss: 1.2273 - acc: 0.5676 - val_loss: 1.2518 - val_acc: 0.5634\n",
            "Epoch 12/100\n",
            "40000/40000 [==============================] - 11s 264us/step - loss: 1.2015 - acc: 0.5767 - val_loss: 1.2398 - val_acc: 0.5630\n",
            "Epoch 13/100\n",
            "40000/40000 [==============================] - 11s 265us/step - loss: 1.1773 - acc: 0.5850 - val_loss: 1.2003 - val_acc: 0.5836\n",
            "Epoch 14/100\n",
            "40000/40000 [==============================] - 11s 265us/step - loss: 1.1547 - acc: 0.5921 - val_loss: 1.1806 - val_acc: 0.5887\n",
            "Epoch 15/100\n",
            "40000/40000 [==============================] - 11s 266us/step - loss: 1.1335 - acc: 0.6037 - val_loss: 1.1806 - val_acc: 0.5871\n",
            "Epoch 16/100\n",
            "40000/40000 [==============================] - 11s 264us/step - loss: 1.1137 - acc: 0.6092 - val_loss: 1.1660 - val_acc: 0.5947\n",
            "Epoch 17/100\n",
            "40000/40000 [==============================] - 11s 267us/step - loss: 1.0937 - acc: 0.6165 - val_loss: 1.1613 - val_acc: 0.6014\n",
            "Epoch 18/100\n",
            "40000/40000 [==============================] - 11s 268us/step - loss: 1.0742 - acc: 0.6225 - val_loss: 1.1330 - val_acc: 0.6098\n",
            "Epoch 19/100\n",
            "40000/40000 [==============================] - 11s 265us/step - loss: 1.0577 - acc: 0.6299 - val_loss: 1.1133 - val_acc: 0.6151\n",
            "Epoch 20/100\n",
            "40000/40000 [==============================] - 11s 266us/step - loss: 1.0416 - acc: 0.6346 - val_loss: 1.0866 - val_acc: 0.6276\n",
            "Epoch 21/100\n",
            "40000/40000 [==============================] - 11s 269us/step - loss: 1.0261 - acc: 0.6438 - val_loss: 1.0881 - val_acc: 0.6264\n",
            "Epoch 22/100\n",
            "40000/40000 [==============================] - 11s 268us/step - loss: 1.0104 - acc: 0.6471 - val_loss: 1.0920 - val_acc: 0.6266\n",
            "Epoch 23/100\n",
            "40000/40000 [==============================] - 11s 269us/step - loss: 0.9969 - acc: 0.6530 - val_loss: 1.0780 - val_acc: 0.6291\n",
            "Epoch 24/100\n",
            "40000/40000 [==============================] - 11s 269us/step - loss: 0.9807 - acc: 0.6587 - val_loss: 1.0603 - val_acc: 0.6332\n",
            "Epoch 25/100\n",
            "40000/40000 [==============================] - 11s 268us/step - loss: 0.9680 - acc: 0.6624 - val_loss: 1.0818 - val_acc: 0.6277\n",
            "Epoch 26/100\n",
            "40000/40000 [==============================] - 11s 270us/step - loss: 0.9533 - acc: 0.6675 - val_loss: 1.0707 - val_acc: 0.6306\n",
            "Epoch 27/100\n",
            "40000/40000 [==============================] - 11s 270us/step - loss: 0.9418 - acc: 0.6742 - val_loss: 1.0592 - val_acc: 0.6375\n",
            "Epoch 28/100\n",
            "40000/40000 [==============================] - 11s 267us/step - loss: 0.9295 - acc: 0.6771 - val_loss: 1.0481 - val_acc: 0.6419\n",
            "Epoch 29/100\n",
            "40000/40000 [==============================] - 11s 268us/step - loss: 0.9181 - acc: 0.6814 - val_loss: 1.0282 - val_acc: 0.6483\n",
            "Epoch 30/100\n",
            "40000/40000 [==============================] - 11s 278us/step - loss: 0.9066 - acc: 0.6858 - val_loss: 1.0302 - val_acc: 0.6494\n",
            "Epoch 31/100\n",
            "40000/40000 [==============================] - 11s 268us/step - loss: 0.8940 - acc: 0.6895 - val_loss: 1.0295 - val_acc: 0.6502\n",
            "Epoch 32/100\n",
            "40000/40000 [==============================] - 11s 281us/step - loss: 0.8834 - acc: 0.6942 - val_loss: 0.9995 - val_acc: 0.6559\n",
            "Epoch 33/100\n",
            "40000/40000 [==============================] - 11s 274us/step - loss: 0.8726 - acc: 0.6970 - val_loss: 1.0942 - val_acc: 0.6214\n",
            "Epoch 34/100\n",
            "40000/40000 [==============================] - 11s 267us/step - loss: 0.8611 - acc: 0.7022 - val_loss: 0.9970 - val_acc: 0.6611\n",
            "Epoch 35/100\n",
            "40000/40000 [==============================] - 11s 267us/step - loss: 0.8508 - acc: 0.7044 - val_loss: 1.0361 - val_acc: 0.6510\n",
            "Epoch 36/100\n",
            "40000/40000 [==============================] - 11s 271us/step - loss: 0.8410 - acc: 0.7093 - val_loss: 0.9923 - val_acc: 0.6606\n",
            "Epoch 37/100\n",
            "40000/40000 [==============================] - 11s 270us/step - loss: 0.8282 - acc: 0.7134 - val_loss: 0.9958 - val_acc: 0.6596\n",
            "Epoch 38/100\n",
            "40000/40000 [==============================] - 11s 271us/step - loss: 0.8185 - acc: 0.7158 - val_loss: 1.0230 - val_acc: 0.6505\n",
            "Epoch 39/100\n",
            "40000/40000 [==============================] - 11s 269us/step - loss: 0.8086 - acc: 0.7194 - val_loss: 0.9828 - val_acc: 0.6687\n",
            "Epoch 40/100\n",
            "40000/40000 [==============================] - 11s 269us/step - loss: 0.7992 - acc: 0.7230 - val_loss: 0.9761 - val_acc: 0.6699\n",
            "Epoch 41/100\n",
            "40000/40000 [==============================] - 11s 270us/step - loss: 0.7889 - acc: 0.7260 - val_loss: 0.9895 - val_acc: 0.6620\n",
            "Epoch 42/100\n",
            "40000/40000 [==============================] - 11s 283us/step - loss: 0.7802 - acc: 0.7301 - val_loss: 0.9863 - val_acc: 0.6679\n",
            "Epoch 43/100\n",
            "40000/40000 [==============================] - 12s 312us/step - loss: 0.7703 - acc: 0.7336 - val_loss: 0.9791 - val_acc: 0.6691\n",
            "Epoch 44/100\n",
            "40000/40000 [==============================] - 11s 280us/step - loss: 0.7600 - acc: 0.7391 - val_loss: 0.9564 - val_acc: 0.6771\n",
            "Epoch 45/100\n",
            "40000/40000 [==============================] - 11s 280us/step - loss: 0.7514 - acc: 0.7417 - val_loss: 0.9561 - val_acc: 0.6772\n",
            "Epoch 46/100\n",
            "40000/40000 [==============================] - 11s 278us/step - loss: 0.7426 - acc: 0.7446 - val_loss: 0.9542 - val_acc: 0.6785\n",
            "Epoch 47/100\n",
            "40000/40000 [==============================] - 11s 279us/step - loss: 0.7323 - acc: 0.7485 - val_loss: 0.9808 - val_acc: 0.6706\n",
            "Epoch 48/100\n",
            "40000/40000 [==============================] - 12s 292us/step - loss: 0.7227 - acc: 0.7511 - val_loss: 0.9711 - val_acc: 0.6748\n",
            "Epoch 49/100\n",
            "40000/40000 [==============================] - 12s 302us/step - loss: 0.7142 - acc: 0.7539 - val_loss: 0.9659 - val_acc: 0.6747\n",
            "Epoch 50/100\n",
            "40000/40000 [==============================] - 12s 302us/step - loss: 0.7049 - acc: 0.7572 - val_loss: 0.9734 - val_acc: 0.6772\n",
            "Epoch 51/100\n",
            "40000/40000 [==============================] - 12s 298us/step - loss: 0.6949 - acc: 0.7609 - val_loss: 0.9760 - val_acc: 0.6782\n",
            "Epoch 52/100\n",
            "40000/40000 [==============================] - 12s 297us/step - loss: 0.6865 - acc: 0.7616 - val_loss: 0.9539 - val_acc: 0.6796\n",
            "Epoch 53/100\n",
            "40000/40000 [==============================] - 12s 299us/step - loss: 0.6791 - acc: 0.7653 - val_loss: 0.9663 - val_acc: 0.6749\n",
            "Epoch 54/100\n",
            "40000/40000 [==============================] - 12s 298us/step - loss: 0.6694 - acc: 0.7687 - val_loss: 0.9849 - val_acc: 0.6750\n",
            "Epoch 55/100\n",
            "40000/40000 [==============================] - 12s 299us/step - loss: 0.6616 - acc: 0.7726 - val_loss: 0.9738 - val_acc: 0.6792\n",
            "Epoch 56/100\n",
            "40000/40000 [==============================] - 12s 297us/step - loss: 0.6552 - acc: 0.7742 - val_loss: 0.9719 - val_acc: 0.6815\n",
            "Epoch 57/100\n",
            "40000/40000 [==============================] - 12s 306us/step - loss: 0.6456 - acc: 0.7775 - val_loss: 0.9668 - val_acc: 0.6808\n",
            "Epoch 58/100\n",
            "40000/40000 [==============================] - 12s 298us/step - loss: 0.6352 - acc: 0.7809 - val_loss: 1.0020 - val_acc: 0.6725\n",
            "Epoch 59/100\n",
            "40000/40000 [==============================] - 12s 309us/step - loss: 0.6289 - acc: 0.7834 - val_loss: 0.9715 - val_acc: 0.6812\n",
            "Epoch 60/100\n",
            "40000/40000 [==============================] - 12s 302us/step - loss: 0.6189 - acc: 0.7873 - val_loss: 0.9829 - val_acc: 0.6798\n",
            "Epoch 61/100\n",
            "40000/40000 [==============================] - 12s 297us/step - loss: 0.6118 - acc: 0.7891 - val_loss: 0.9847 - val_acc: 0.6802\n",
            "Epoch 62/100\n",
            "40000/40000 [==============================] - 12s 299us/step - loss: 0.6029 - acc: 0.7922 - val_loss: 0.9763 - val_acc: 0.6819\n",
            "Epoch 63/100\n",
            "40000/40000 [==============================] - 12s 296us/step - loss: 0.5962 - acc: 0.7948 - val_loss: 0.9717 - val_acc: 0.6808\n",
            "Epoch 64/100\n",
            "40000/40000 [==============================] - 12s 296us/step - loss: 0.5857 - acc: 0.7998 - val_loss: 0.9871 - val_acc: 0.6821\n",
            "Epoch 65/100\n",
            "40000/40000 [==============================] - 11s 285us/step - loss: 0.5780 - acc: 0.8014 - val_loss: 0.9985 - val_acc: 0.6773\n",
            "Epoch 66/100\n",
            "40000/40000 [==============================] - 11s 276us/step - loss: 0.5722 - acc: 0.8043 - val_loss: 0.9716 - val_acc: 0.6868\n",
            "Epoch 67/100\n",
            "40000/40000 [==============================] - 11s 272us/step - loss: 0.5643 - acc: 0.8075 - val_loss: 0.9950 - val_acc: 0.6807\n",
            "Epoch 68/100\n",
            "40000/40000 [==============================] - 11s 267us/step - loss: 0.5562 - acc: 0.8084 - val_loss: 0.9682 - val_acc: 0.6910\n",
            "Epoch 69/100\n",
            "40000/40000 [==============================] - 11s 263us/step - loss: 0.5472 - acc: 0.8111 - val_loss: 1.0131 - val_acc: 0.6774\n",
            "Epoch 70/100\n",
            "40000/40000 [==============================] - 11s 267us/step - loss: 0.5404 - acc: 0.8159 - val_loss: 0.9917 - val_acc: 0.6894\n",
            "Epoch 71/100\n",
            "40000/40000 [==============================] - 11s 265us/step - loss: 0.5314 - acc: 0.8185 - val_loss: 0.9920 - val_acc: 0.6837\n",
            "Epoch 72/100\n",
            "40000/40000 [==============================] - 11s 265us/step - loss: 0.5241 - acc: 0.8206 - val_loss: 1.0186 - val_acc: 0.6817\n",
            "Epoch 73/100\n",
            "40000/40000 [==============================] - 11s 265us/step - loss: 0.5178 - acc: 0.8223 - val_loss: 0.9990 - val_acc: 0.6856\n",
            "Epoch 74/100\n",
            "40000/40000 [==============================] - 11s 265us/step - loss: 0.5095 - acc: 0.8267 - val_loss: 1.0000 - val_acc: 0.6854\n",
            "Epoch 75/100\n",
            "40000/40000 [==============================] - 11s 263us/step - loss: 0.5014 - acc: 0.8301 - val_loss: 1.0069 - val_acc: 0.6841\n",
            "Epoch 76/100\n",
            "40000/40000 [==============================] - 11s 263us/step - loss: 0.4956 - acc: 0.8302 - val_loss: 1.0006 - val_acc: 0.6883\n",
            "Epoch 77/100\n",
            "40000/40000 [==============================] - 11s 268us/step - loss: 0.4877 - acc: 0.8348 - val_loss: 1.0432 - val_acc: 0.6814\n",
            "Epoch 78/100\n",
            "40000/40000 [==============================] - 11s 269us/step - loss: 0.4805 - acc: 0.8364 - val_loss: 1.0154 - val_acc: 0.6840\n",
            "Epoch 79/100\n",
            "40000/40000 [==============================] - 11s 270us/step - loss: 0.4713 - acc: 0.8389 - val_loss: 1.0364 - val_acc: 0.6818\n",
            "Epoch 80/100\n",
            "40000/40000 [==============================] - 11s 271us/step - loss: 0.4662 - acc: 0.8408 - val_loss: 1.0469 - val_acc: 0.6811\n",
            "Epoch 81/100\n",
            "40000/40000 [==============================] - 11s 272us/step - loss: 0.4591 - acc: 0.8433 - val_loss: 1.0332 - val_acc: 0.6848\n",
            "Epoch 82/100\n",
            "40000/40000 [==============================] - 11s 269us/step - loss: 0.4514 - acc: 0.8470 - val_loss: 1.0706 - val_acc: 0.6775\n",
            "Epoch 83/100\n",
            "40000/40000 [==============================] - 11s 270us/step - loss: 0.4455 - acc: 0.8498 - val_loss: 1.0703 - val_acc: 0.6803\n",
            "Epoch 84/100\n",
            "40000/40000 [==============================] - 11s 272us/step - loss: 0.4373 - acc: 0.8518 - val_loss: 1.0563 - val_acc: 0.6850\n",
            "Epoch 85/100\n",
            "40000/40000 [==============================] - 11s 274us/step - loss: 0.4317 - acc: 0.8542 - val_loss: 1.0797 - val_acc: 0.6783\n",
            "Epoch 86/100\n",
            "40000/40000 [==============================] - 11s 266us/step - loss: 0.4229 - acc: 0.8573 - val_loss: 1.0530 - val_acc: 0.6860\n",
            "Epoch 87/100\n",
            "40000/40000 [==============================] - 11s 273us/step - loss: 0.4185 - acc: 0.8594 - val_loss: 1.0616 - val_acc: 0.6855\n",
            "Epoch 88/100\n",
            "40000/40000 [==============================] - 11s 280us/step - loss: 0.4088 - acc: 0.8601 - val_loss: 1.1117 - val_acc: 0.6734\n",
            "Epoch 89/100\n",
            "40000/40000 [==============================] - 11s 269us/step - loss: 0.4036 - acc: 0.8644 - val_loss: 1.1000 - val_acc: 0.6807\n",
            "Epoch 90/100\n",
            "40000/40000 [==============================] - 11s 270us/step - loss: 0.3976 - acc: 0.8666 - val_loss: 1.0647 - val_acc: 0.6880\n",
            "Epoch 91/100\n",
            "40000/40000 [==============================] - 11s 269us/step - loss: 0.3905 - acc: 0.8692 - val_loss: 1.1080 - val_acc: 0.6817\n",
            "Epoch 92/100\n",
            "40000/40000 [==============================] - 11s 269us/step - loss: 0.3841 - acc: 0.8703 - val_loss: 1.1061 - val_acc: 0.6822\n",
            "Epoch 93/100\n",
            "40000/40000 [==============================] - 11s 270us/step - loss: 0.3759 - acc: 0.8747 - val_loss: 1.0897 - val_acc: 0.6895\n",
            "Epoch 94/100\n",
            "40000/40000 [==============================] - 12s 297us/step - loss: 0.3684 - acc: 0.8765 - val_loss: 1.1168 - val_acc: 0.6873\n",
            "Epoch 95/100\n",
            "40000/40000 [==============================] - 11s 279us/step - loss: 0.3628 - acc: 0.8778 - val_loss: 1.1254 - val_acc: 0.6864\n",
            "Epoch 96/100\n",
            "40000/40000 [==============================] - 11s 287us/step - loss: 0.3565 - acc: 0.8817 - val_loss: 1.1339 - val_acc: 0.6840\n",
            "Epoch 97/100\n",
            "40000/40000 [==============================] - 12s 303us/step - loss: 0.3508 - acc: 0.8817 - val_loss: 1.1603 - val_acc: 0.6843\n",
            "Epoch 98/100\n",
            "40000/40000 [==============================] - 12s 301us/step - loss: 0.3443 - acc: 0.8858 - val_loss: 1.1369 - val_acc: 0.6864\n",
            "Epoch 99/100\n",
            "40000/40000 [==============================] - 12s 300us/step - loss: 0.3363 - acc: 0.8882 - val_loss: 1.1519 - val_acc: 0.6875\n",
            "Epoch 100/100\n",
            "40000/40000 [==============================] - 12s 295us/step - loss: 0.3318 - acc: 0.8891 - val_loss: 1.1694 - val_acc: 0.6856\n"
          ],
          "name": "stdout"
        },
        {
          "output_type": "execute_result",
          "data": {
            "text/plain": [
              "<keras.callbacks.History at 0x7fa5f9fd04e0>"
            ]
          },
          "metadata": {
            "tags": []
          },
          "execution_count": 5
        }
      ]
    }
  ]
}